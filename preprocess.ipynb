{
 "cells": [
  {
   "cell_type": "code",
   "execution_count": 8,
   "metadata": {},
   "outputs": [
    {
     "name": "stderr",
     "output_type": "stream",
     "text": [
      "[nltk_data] Downloading package punkt to\n",
      "[nltk_data]     C:\\Users\\And3w\\AppData\\Roaming\\nltk_data...\n",
      "[nltk_data]   Package punkt is already up-to-date!\n",
      "[nltk_data] Downloading package stopwords to\n",
      "[nltk_data]     C:\\Users\\And3w\\AppData\\Roaming\\nltk_data...\n",
      "[nltk_data]   Package stopwords is already up-to-date!\n",
      "[nltk_data] Downloading package wordnet to\n",
      "[nltk_data]     C:\\Users\\And3w\\AppData\\Roaming\\nltk_data...\n",
      "[nltk_data]   Package wordnet is already up-to-date!\n"
     ]
    },
    {
     "data": {
      "text/plain": [
       "True"
      ]
     },
     "execution_count": 8,
     "metadata": {},
     "output_type": "execute_result"
    }
   ],
   "source": [
    "import os  \n",
    "import pandas as pd  \n",
    "import re  \n",
    "import emoji  \n",
    "import numpy as np  \n",
    "import nltk  \n",
    "from sklearn.model_selection import train_test_split  \n",
    "from sklearn.feature_extraction.text import TfidfVectorizer  \n",
    "from sklearn.preprocessing import LabelEncoder  \n",
    "from sklearn.ensemble import RandomForestClassifier  \n",
    "from sklearn.metrics import classification_report, confusion_matrix  \n",
    "import seaborn as sns  \n",
    "import matplotlib.pyplot as plt  \n",
    "from nltk.corpus import stopwords  \n",
    "from nltk.tokenize import word_tokenize  \n",
    "from nltk.stem import WordNetLemmatizer  \n",
    "\n",
    " \n",
    "nltk.download('punkt')  \n",
    "nltk.download('stopwords')  \n",
    "nltk.download('wordnet')  "
   ]
  },
  {
   "cell_type": "code",
   "execution_count": 9,
   "metadata": {},
   "outputs": [],
   "source": [
    "lemmatizer = WordNetLemmatizer()\n",
    "stop_words = stopwords.words('english')"
   ]
  },
  {
   "cell_type": "code",
   "execution_count": 10,
   "metadata": {},
   "outputs": [],
   "source": [
    "def preprocess_tweet(tweet):\n",
    "    tweet = emoji.replace_emoji(tweet, replace='')\n",
    "\n",
    "    tweet = re.sub(r'[:;=X][-o*]?[)D\\(\\[Pp/\\\\|\\\\]|O|3><]', '', tweet)\n",
    "    tweet = re.sub(r'[^\\x00-\\x7F]+', '', tweet)\n",
    "    tweet = re.sub(r'http\\S+', '', tweet)\n",
    "    tweet = re.sub(r'@\\w+|#\\w+', '', tweet)\n",
    "    tweet = re.sub(r'[^A-Za-z\\s]', '', tweet)\n",
    "\n",
    "    tweet = tweet.lower()\n",
    "\n",
    "    words = word_tokenize(tweet)\n",
    "\n",
    "    words = [lemmatizer.lemmatize(word) for word in words if word not in stop_words]\n",
    "\n",
    "    return ' '.join(words)"
   ]
  },
  {
   "cell_type": "code",
   "execution_count": 11,
   "metadata": {},
   "outputs": [],
   "source": [
    "folders = [  \n",
    "    ('Emotion_Dataset/AngerData.csv', 'Anger'),  \n",
    "    ('Emotion_Dataset/FearData.csv', 'Fear'),  \n",
    "    ('Emotion_Dataset/JoyData.csv', 'Joy'),  \n",
    "    ('Emotion_Dataset/LoveData.csv', 'Love'),  \n",
    "    ('Emotion_Dataset/NeutralData.csv', 'Neutral'),  \n",
    "    ('Emotion_Dataset/SadData.csv', 'Sad')  \n",
    "]  \n",
    "\n",
    "train_dfs = []  \n",
    "test_dfs = []  \n",
    "\n",
    "for file_path, label in folders:\n",
    "    df = pd.read_csv(file_path, sep='\\t')  \n",
    "    \n",
    "    df['cleaned_tweet'] = df['Tweet'].apply(preprocess_tweet)  \n",
    "     \n",
    "    df['Label'] = label  \n",
    "     \n",
    "    train_df, test_df = train_test_split(df, test_size=0.3, random_state=42, stratify=df['Label'])  \n",
    "      \n",
    "    train_dfs.append(train_df)  \n",
    "    test_dfs.append(test_df)  \n",
    " \n",
    "train_combined = pd.concat(train_dfs, ignore_index=True)  \n",
    "test_combined = pd.concat(test_dfs, ignore_index=True)  \n",
    "\n",
    "train_combined.reset_index(drop=True, inplace=True)  \n",
    "test_combined.reset_index(drop=True, inplace=True)  \n",
    "\n",
    "train_result = train_combined[['cleaned_tweet', 'Label']]  \n",
    "test_result = test_combined[['cleaned_tweet', 'Label']]"
   ]
  },
  {
   "cell_type": "code",
   "execution_count": 12,
   "metadata": {},
   "outputs": [],
   "source": [
    "tfidf_vectorizer = TfidfVectorizer(  \n",
    "    max_features=5000,      \n",
    "    ngram_range=(1, 2),     \n",
    "    stop_words='english',  \n",
    "    min_df=2,               \n",
    "    max_df=0.95           \n",
    ")  \n",
    "\n",
    "X_train_tfidf = tfidf_vectorizer.fit_transform(train_result['cleaned_tweet'])  \n",
    "X_test_tfidf = tfidf_vectorizer.transform(test_result['cleaned_tweet'])  \n",
    "\n",
    "le = LabelEncoder()  \n",
    "y_train = le.fit_transform(train_result['Label'])  \n",
    "y_test = le.transform(test_result['Label'])  "
   ]
  },
  {
   "cell_type": "code",
   "execution_count": 15,
   "metadata": {},
   "outputs": [
    {
     "name": "stdout",
     "output_type": "stream",
     "text": [
      "Training Dataset Size: (4951, 5000)\n",
      "Test Dataset Size: (2126, 5000)\n",
      "\n",
      "Label Distribution:\n",
      "Label\n",
      "Neutral    1400\n",
      "Joy         892\n",
      "Anger       788\n",
      "Sad         702\n",
      "Fear        637\n",
      "Love        532\n",
      "Name: count, dtype: int64\n"
     ]
    }
   ],
   "source": [
    "print(\"Training Dataset Size:\", X_train_tfidf.shape)  \n",
    "print(\"Test Dataset Size:\", X_test_tfidf.shape)  \n",
    "print(\"\\nLabel Distribution:\")  \n",
    "print(train_result['Label'].value_counts())  \n",
    "\n",
    "\n",
    "clf = RandomForestClassifier(  \n",
    "    n_estimators=100,   \n",
    "    random_state=42,   \n",
    "    n_jobs=-1 \n",
    ")  \n",
    "clf.fit(X_train_tfidf, y_train)  \n",
    "\n",
    "y_pred = clf.predict(X_test_tfidf)  "
   ]
  },
  {
   "cell_type": "code",
   "execution_count": 16,
   "metadata": {},
   "outputs": [
    {
     "name": "stdout",
     "output_type": "stream",
     "text": [
      "\n",
      "Classification Report:\n",
      "              precision    recall  f1-score   support\n",
      "\n",
      "       Anger       0.72      0.65      0.69       339\n",
      "        Fear       0.78      0.77      0.77       274\n",
      "         Joy       0.77      0.67      0.72       383\n",
      "        Love       0.60      0.84      0.70       228\n",
      "     Neutral       0.61      0.67      0.64       601\n",
      "         Sad       0.77      0.60      0.68       301\n",
      "\n",
      "    accuracy                           0.69      2126\n",
      "   macro avg       0.71      0.70      0.70      2126\n",
      "weighted avg       0.70      0.69      0.69      2126\n",
      "\n"
     ]
    },
    {
     "data": {
      "image/png": "[encoded data removed]",
      "text/plain": [
       "<Figure size 1000x800 with 2 Axes>"
      ]
     },
     "metadata": {},
     "output_type": "display_data"
    }
   ],
   "source": [
    "print(\"\\nClassification Report:\")  \n",
    "print(classification_report(y_test, y_pred, target_names=le.classes_))  \n",
    "\n",
    "plt.figure(figsize=(10,8))  \n",
    "cm = confusion_matrix(y_test, y_pred)  \n",
    "sns.heatmap(cm, annot=True, fmt='d',   \n",
    "            xticklabels=le.classes_,   \n",
    "            yticklabels=le.classes_)  \n",
    "plt.title('Confusion Matrix')  \n",
    "plt.xlabel('Predicted Label')  \n",
    "plt.ylabel('True Label')  \n",
    "plt.tight_layout()  \n",
    "plt.show()  \n",
    " \n",
    "feature_names = tfidf_vectorizer.get_feature_names_out()  \n",
    "feature_importances = clf.feature_importances_  \n",
    "top_features = sorted(zip(feature_importances, feature_names), reverse=True)[:20]  "
   ]
  },
  {
   "cell_type": "code",
   "execution_count": 17,
   "metadata": {},
   "outputs": [
    {
     "name": "stdout",
     "output_type": "stream",
     "text": [
      "\n",
      "Top 20 Important Features:\n",
      "sedih: 0.04194158439764004\n",
      "semangat: 0.03860048414447677\n",
      "takut: 0.0345675783148573\n",
      "banget: 0.02044814126489417\n",
      "suka: 0.02042325602132168\n",
      "saja: 0.015515490614362677\n",
      "tolol: 0.012332813559027284\n",
      "suka banget: 0.012197375664479688\n",
      "biasa: 0.012098727651309461\n",
      "ngeri: 0.011999553664159416\n",
      "emosi: 0.010031238261108067\n",
      "enak: 0.009272341786441351\n",
      "bangsat: 0.008574660040387793\n",
      "marah: 0.007359060571647962\n",
      "kaget: 0.006614671035319047\n",
      "bodoh: 0.006587865313122859\n",
      "malu: 0.006142379464351615\n",
      "benci: 0.0059564654438951795\n",
      "kecewa: 0.005767440200716883\n",
      "aku: 0.005210485660106005\n"
     ]
    }
   ],
   "source": [
    "print(\"\\nTop 20 Important Features:\")  \n",
    "for importance, feature in top_features:  \n",
    "    print(f\"{feature}: {importance}\")"
   ]
  }
 ],
 "metadata": {
  "kernelspec": {
   "display_name": "Python 3",
   "language": "python",
   "name": "python3"
  },
  "language_info": {
   "codemirror_mode": {
    "name": "ipython",
    "version": 3
   },
   "file_extension": ".py",
   "mimetype": "text/x-python",
   "name": "python",
   "nbconvert_exporter": "python",
   "pygments_lexer": "ipython3",
   "version": "3.10.2"
  }
 },
 "nbformat": 4,
 "nbformat_minor": 2
}
